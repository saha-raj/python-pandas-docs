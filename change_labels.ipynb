{
 "cells": [
  {
   "cell_type": "markdown",
   "metadata": {},
   "source": [
    "# change parent/grandparent labels"
   ]
  },
  {
   "cell_type": "code",
   "execution_count": 2,
   "metadata": {},
   "outputs": [],
   "source": [
    "import os"
   ]
  },
  {
   "cell_type": "code",
   "execution_count": 3,
   "metadata": {},
   "outputs": [],
   "source": [
    "def replace_metadata_value(directory, metadata_key, old_value, new_value):\n",
    "    for root, dirs, files in os.walk(directory):\n",
    "        for file in files:\n",
    "            if file.endswith(\".md\"):\n",
    "                file_path = os.path.join(root, file)\n",
    "                with open(file_path, \"r\") as f:\n",
    "                    lines = f.readlines()\n",
    "                    metadata_start = lines.index(\"---\\n\")\n",
    "                    metadata_end = lines.index(\"---\\n\", metadata_start + 1)\n",
    "                    metadata = lines[metadata_start + 1:metadata_end]\n",
    "                    modified_metadata = []\n",
    "                    for line in metadata:\n",
    "                        if line.startswith(metadata_key + \":\"):\n",
    "                            if old_value in line:\n",
    "                                line = line.replace(old_value, new_value)\n",
    "                        modified_metadata.append(line)\n",
    "                    modified_lines = lines[:metadata_start + 1] + modified_metadata + lines[metadata_end:]\n",
    "                with open(file_path, \"w\") as f:\n",
    "                    f.writelines(modified_lines)\n",
    "\n"
   ]
  },
  {
   "cell_type": "code",
   "execution_count": null,
   "metadata": {},
   "outputs": [],
   "source": [
    "# # Usage example\n",
    "# directory = \"src/content_test\"\n",
    "# metadata_key = \"parent\"  # or \"grandParent\"\n",
    "# old_value = \"Manipulating values\"\n",
    "# new_value = \"Data Manipulation\"\n",
    "\n",
    "# replace_metadata_value(directory, metadata_key, old_value, new_value)"
   ]
  },
  {
   "cell_type": "code",
   "execution_count": 4,
   "metadata": {},
   "outputs": [],
   "source": [
    "directory = \"src/content\"\n",
    "metadata_key = \"parent\"  # or \"grandParent\"\n",
    "old_value = \"Manipulating values\"\n",
    "new_value = \"Data Manipulation\"\n",
    "\n",
    "replace_metadata_value(directory, metadata_key, old_value, new_value)"
   ]
  },
  {
   "cell_type": "code",
   "execution_count": 5,
   "metadata": {},
   "outputs": [],
   "source": [
    "directory = \"src/content\"\n",
    "metadata_key = \"parent\"  # or \"grandParent\"\n",
    "old_value = \"Storing values in memory\"\n",
    "new_value = \"Data Structures\"\n",
    "\n",
    "replace_metadata_value(directory, metadata_key, old_value, new_value)"
   ]
  },
  {
   "cell_type": "code",
   "execution_count": null,
   "metadata": {},
   "outputs": [],
   "source": [
    "directory = \"src/content\"\n",
    "metadata_key = \"parent\"  # or \"grandParent\"\n",
    "old_value = \"Combining Data\"\n",
    "new_value = \"Combining\"\n",
    "\n",
    "replace_metadata_value(directory, metadata_key, old_value, new_value)"
   ]
  },
  {
   "cell_type": "code",
   "execution_count": null,
   "metadata": {},
   "outputs": [],
   "source": []
  }
 ],
 "metadata": {
  "kernelspec": {
   "display_name": "base",
   "language": "python",
   "name": "python3"
  },
  "language_info": {
   "codemirror_mode": {
    "name": "ipython",
    "version": 3
   },
   "file_extension": ".py",
   "mimetype": "text/x-python",
   "name": "python",
   "nbconvert_exporter": "python",
   "pygments_lexer": "ipython3",
   "version": "3.11.5"
  }
 },
 "nbformat": 4,
 "nbformat_minor": 2
}
